{
 "cells": [
  {
   "cell_type": "markdown",
   "id": "728fd366",
   "metadata": {},
   "source": [
    "Without robot"
   ]
  },
  {
   "cell_type": "code",
   "execution_count": 3,
   "id": "ef8530eb",
   "metadata": {},
   "outputs": [
    {
     "name": "stdout",
     "output_type": "stream",
     "text": [
      "**ry-c++-log** /home/olga/git/robotics-course/rai/rai/ry/ry.cpp:init_LogToPythonConsole:34(0) initializing ry log callback\n",
      "\n"
     ]
    }
   ],
   "source": [
    "import sys\n",
    "sys.path.append('../../build')\n",
    "\n",
    "import libry as ry\n",
    "import os, copy\n",
    "\n",
    "import cv2 as cv\n",
    "import numpy as np\n",
    "\n",
    "import matplotlib.pyplot as plt"
   ]
  },
  {
   "cell_type": "code",
   "execution_count": 4,
   "id": "c4106908",
   "metadata": {},
   "outputs": [
    {
     "data": {
      "text/plain": [
       "<libry.CameraViewSensor at 0x7fbc07dc0130>"
      ]
     },
     "execution_count": 4,
     "metadata": {},
     "output_type": "execute_result"
    }
   ],
   "source": [
    "RealWorld = ry.Config()\n",
    "RealWorld.addFile(os.path.abspath('robot_scene/scene_camera.g'))\n",
    "S = RealWorld.simulation(ry.SimulatorEngine.bullet, True)\n",
    "S.addSensor(\"camera\")"
   ]
  },
  {
   "cell_type": "code",
   "execution_count": 3,
   "id": "625b44ee",
   "metadata": {},
   "outputs": [],
   "source": [
    "S.selectSensor(\"camera\")\n",
    "cameraFrame = RealWorld.frame(\"camera\")\n",
    "[rgb, depth] = S.getImageAndDepth()"
   ]
  },
  {
   "cell_type": "code",
   "execution_count": 4,
   "id": "f3d059a8",
   "metadata": {},
   "outputs": [
    {
     "data": {
      "text/plain": [
       "(360, 640)"
      ]
     },
     "execution_count": 4,
     "metadata": {},
     "output_type": "execute_result"
    }
   ],
   "source": [
    "depth.shape"
   ]
  },
  {
   "cell_type": "code",
   "execution_count": 5,
   "id": "8e8362b2",
   "metadata": {},
   "outputs": [
    {
     "data": {
      "image/png": "[encoded data removed]",
      "text/plain": [
       "<Figure size 432x288 with 1 Axes>"
      ]
     },
     "metadata": {
      "needs_background": "light"
     },
     "output_type": "display_data"
    }
   ],
   "source": [
    "fig, ax = plt.subplots()\n",
    "im = ax.imshow(rgb)"
   ]
  },
  {
   "cell_type": "code",
   "execution_count": 6,
   "id": "4dd39cbd",
   "metadata": {},
   "outputs": [
    {
     "data": {
      "image/png": "[encoded data removed]",
      "text/plain": [
       "<Figure size 432x288 with 1 Axes>"
      ]
     },
     "metadata": {
      "needs_background": "light"
     },
     "output_type": "display_data"
    }
   ],
   "source": [
    "fig, ax = plt.subplots()\n",
    "im = ax.imshow(depth)"
   ]
  },
  {
   "cell_type": "code",
   "execution_count": 7,
   "id": "5c134158",
   "metadata": {},
   "outputs": [],
   "source": [
    "idx_list = np.arange(depth.shape[1])[depth[225,:]==np.min(depth[225,:])]"
   ]
  },
  {
   "cell_type": "code",
   "execution_count": 8,
   "id": "86b4869b",
   "metadata": {},
   "outputs": [],
   "source": [
    "idx_left, idx_right = idx_list[0],idx_list[-1]"
   ]
  },
  {
   "cell_type": "code",
   "execution_count": 9,
   "id": "fa92fa7e",
   "metadata": {},
   "outputs": [
    {
     "data": {
      "text/plain": [
       "(242, 397)"
      ]
     },
     "execution_count": 9,
     "metadata": {},
     "output_type": "execute_result"
    }
   ],
   "source": [
    "idx_left, idx_right"
   ]
  },
  {
   "cell_type": "code",
   "execution_count": 10,
   "id": "35ceb216",
   "metadata": {},
   "outputs": [],
   "source": [
    "depth_table_left = depth[:,idx_left]"
   ]
  },
  {
   "cell_type": "code",
   "execution_count": 11,
   "id": "ad11047b",
   "metadata": {},
   "outputs": [
    {
     "data": {
      "text/plain": [
       "[<matplotlib.lines.Line2D at 0x7f0ccb4f1460>]"
      ]
     },
     "execution_count": 11,
     "metadata": {},
     "output_type": "execute_result"
    },
    {
     "data": {
      "image/png": "[encoded data removed]",
      "text/plain": [
       "<Figure size 432x288 with 1 Axes>"
      ]
     },
     "metadata": {
      "needs_background": "light"
     },
     "output_type": "display_data"
    }
   ],
   "source": [
    "plt.plot(depth_table_left)"
   ]
  },
  {
   "cell_type": "code",
   "execution_count": 12,
   "id": "dbec31f6",
   "metadata": {},
   "outputs": [],
   "source": [
    "idx_list_2 = np.arange(depth.shape[0])[depth_table_left==np.min(depth_table_left)]"
   ]
  },
  {
   "cell_type": "code",
   "execution_count": 13,
   "id": "cb7858f3",
   "metadata": {},
   "outputs": [],
   "source": [
    "depth_left_diff = depth_table_left[1:] - depth_table_left[:-1]"
   ]
  },
  {
   "cell_type": "code",
   "execution_count": 14,
   "id": "37bb76c3",
   "metadata": {},
   "outputs": [
    {
     "data": {
      "text/plain": [
       "[<matplotlib.lines.Line2D at 0x7f0ccb4515b0>]"
      ]
     },
     "execution_count": 14,
     "metadata": {},
     "output_type": "execute_result"
    },
    {
     "data": {
      "image/png": "[encoded data removed]",
      "text/plain": [
       "<Figure size 432x288 with 1 Axes>"
      ]
     },
     "metadata": {
      "needs_background": "light"
     },
     "output_type": "display_data"
    }
   ],
   "source": [
    "plt.plot(depth_left_diff)"
   ]
  },
  {
   "cell_type": "code",
   "execution_count": 15,
   "id": "96145779",
   "metadata": {},
   "outputs": [],
   "source": [
    "idx_top, idx_bottom = np.argmin(depth_left_diff), np.argmax(depth_left_diff)"
   ]
  },
  {
   "cell_type": "code",
   "execution_count": 16,
   "id": "436bca23",
   "metadata": {},
   "outputs": [
    {
     "data": {
      "text/plain": [
       "(93, 250)"
      ]
     },
     "execution_count": 16,
     "metadata": {},
     "output_type": "execute_result"
    }
   ],
   "source": [
    "idx_top, idx_bottom "
   ]
  },
  {
   "cell_type": "code",
   "execution_count": 17,
   "id": "1b4f47b3",
   "metadata": {},
   "outputs": [
    {
     "data": {
      "text/plain": [
       "(157, 155)"
      ]
     },
     "execution_count": 17,
     "metadata": {},
     "output_type": "execute_result"
    }
   ],
   "source": [
    "depth_table = depth[idx_top:idx_bottom,idx_left:idx_right]\n",
    "depth_table.shape"
   ]
  },
  {
   "cell_type": "code",
   "execution_count": 18,
   "id": "32327e64",
   "metadata": {},
   "outputs": [
    {
     "data": {
      "image/png": "[encoded data removed]",
      "text/plain": [
       "<Figure size 432x288 with 1 Axes>"
      ]
     },
     "metadata": {
      "needs_background": "light"
     },
     "output_type": "display_data"
    }
   ],
   "source": [
    "fig, ax = plt.subplots()\n",
    "im = ax.imshow(depth_table)"
   ]
  },
  {
   "cell_type": "code",
   "execution_count": 19,
   "id": "215b97d3",
   "metadata": {},
   "outputs": [],
   "source": [
    "rgb_table = rgb[idx_top:idx_bottom,idx_left:idx_right]"
   ]
  },
  {
   "cell_type": "code",
   "execution_count": 20,
   "id": "e117805f",
   "metadata": {},
   "outputs": [
    {
     "data": {
      "text/plain": [
       "(157, 155, 3)"
      ]
     },
     "execution_count": 20,
     "metadata": {},
     "output_type": "execute_result"
    }
   ],
   "source": [
    "rgb_table.shape"
   ]
  },
  {
   "cell_type": "code",
   "execution_count": 21,
   "id": "28e7483c",
   "metadata": {},
   "outputs": [
    {
     "data": {
      "image/png": "[encoded data removed]",
      "text/plain": [
       "<Figure size 432x288 with 1 Axes>"
      ]
     },
     "metadata": {
      "needs_background": "light"
     },
     "output_type": "display_data"
    }
   ],
   "source": [
    "fig, ax = plt.subplots()\n",
    "im = ax.imshow(rgb_table)"
   ]
  },
  {
   "cell_type": "code",
   "execution_count": 22,
   "id": "5716b839",
   "metadata": {},
   "outputs": [],
   "source": [
    "count_lst_1 = []\n",
    "for i in range(depth_table.shape[1]):\n",
    "    temp = len(np.unique(depth_table[:,:i,]))\n",
    "    count_lst_1.append(temp)\n",
    "\n",
    "count_array_1 = np.array(count_lst_1)"
   ]
  },
  {
   "cell_type": "code",
   "execution_count": 23,
   "id": "8b8cba44",
   "metadata": {},
   "outputs": [],
   "source": [
    "count_lst_2 = []\n",
    "for i in range(depth_table.shape[0]):\n",
    "    temp = len(np.unique(depth_table[:i,:]))\n",
    "    count_lst_2.append(temp)\n",
    "    \n",
    "count_array_2 = np.array(count_lst_2)"
   ]
  },
  {
   "cell_type": "code",
   "execution_count": 24,
   "id": "4a50e3e2",
   "metadata": {},
   "outputs": [],
   "source": [
    "diff_count_1 = count_array_1[1:]-count_array_1[:-1]\n",
    "diff_count_2 = count_array_2[1:]-count_array_2[:-1]"
   ]
  },
  {
   "cell_type": "code",
   "execution_count": 25,
   "id": "4257f3d3",
   "metadata": {},
   "outputs": [
    {
     "data": {
      "text/plain": [
       "[<matplotlib.lines.Line2D at 0x7f0ccb301c70>]"
      ]
     },
     "execution_count": 25,
     "metadata": {},
     "output_type": "execute_result"
    },
    {
     "data": {
      "image/png": "[encoded data removed]",
      "text/plain": [
       "<Figure size 432x288 with 1 Axes>"
      ]
     },
     "metadata": {
      "needs_background": "light"
     },
     "output_type": "display_data"
    }
   ],
   "source": [
    "plt.plot(diff_count_1)"
   ]
  },
  {
   "cell_type": "code",
   "execution_count": 26,
   "id": "0dd8b1ed",
   "metadata": {},
   "outputs": [
    {
     "data": {
      "text/plain": [
       "[<matplotlib.lines.Line2D at 0x7f0ccb2e4a90>]"
      ]
     },
     "execution_count": 26,
     "metadata": {},
     "output_type": "execute_result"
    },
    {
     "data": {
      "image/png": "[encoded data removed]",
      "text/plain": [
       "<Figure size 432x288 with 1 Axes>"
      ]
     },
     "metadata": {
      "needs_background": "light"
     },
     "output_type": "display_data"
    }
   ],
   "source": [
    "plt.plot(diff_count_2)"
   ]
  },
  {
   "cell_type": "code",
   "execution_count": null,
   "id": "658c8c48",
   "metadata": {},
   "outputs": [],
   "source": []
  },
  {
   "cell_type": "code",
   "execution_count": 27,
   "id": "e43fb729",
   "metadata": {},
   "outputs": [
    {
     "data": {
      "image/png": "[encoded data removed]",
      "text/plain": [
       "<Figure size 432x288 with 1 Axes>"
      ]
     },
     "metadata": {
      "needs_background": "light"
     },
     "output_type": "display_data"
    }
   ],
   "source": [
    "fig, ax = plt.subplots()\n",
    "im = ax.imshow(rgb_table)"
   ]
  },
  {
   "cell_type": "code",
   "execution_count": 28,
   "id": "f97310e6",
   "metadata": {},
   "outputs": [
    {
     "data": {
      "text/plain": [
       "(157, 155, 3)"
      ]
     },
     "execution_count": 28,
     "metadata": {},
     "output_type": "execute_result"
    }
   ],
   "source": [
    "rgb_table.shape"
   ]
  },
  {
   "cell_type": "code",
   "execution_count": 29,
   "id": "e3265274",
   "metadata": {},
   "outputs": [
    {
     "data": {
      "text/plain": [
       "[<matplotlib.lines.Line2D at 0x7f0ccb22f730>]"
      ]
     },
     "execution_count": 29,
     "metadata": {},
     "output_type": "execute_result"
    },
    {
     "data": {
      "image/png": "[encoded data removed]",
      "text/plain": [
       "<Figure size 432x288 with 1 Axes>"
      ]
     },
     "metadata": {
      "needs_background": "light"
     },
     "output_type": "display_data"
    }
   ],
   "source": [
    "plt.plot(rgb_table[80,:,0], color='red')\n",
    "plt.plot(rgb_table[80,:,1],  color='green')\n",
    "plt.plot(rgb_table[80,:,2],  color='blue')"
   ]
  },
  {
   "cell_type": "code",
   "execution_count": 30,
   "id": "89d46d3f",
   "metadata": {},
   "outputs": [
    {
     "data": {
      "text/plain": [
       "[<matplotlib.lines.Line2D at 0x7f0ccb1958b0>]"
      ]
     },
     "execution_count": 30,
     "metadata": {},
     "output_type": "execute_result"
    },
    {
     "data": {
      "image/png": "[encoded data removed]",
      "text/plain": [
       "<Figure size 432x288 with 1 Axes>"
      ]
     },
     "metadata": {
      "needs_background": "light"
     },
     "output_type": "display_data"
    }
   ],
   "source": [
    "plt.plot(rgb_table[30,:,0], color='red')\n",
    "plt.plot(rgb_table[30,:,1],  color='green')\n",
    "plt.plot(rgb_table[30,:,2],  color='blue')"
   ]
  },
  {
   "cell_type": "code",
   "execution_count": 31,
   "id": "be104c53",
   "metadata": {},
   "outputs": [
    {
     "data": {
      "text/plain": [
       "[<matplotlib.lines.Line2D at 0x7f0ccb2a4f70>]"
      ]
     },
     "execution_count": 31,
     "metadata": {},
     "output_type": "execute_result"
    },
    {
     "data": {
      "image/png": "[encoded data removed]",
      "text/plain": [
       "<Figure size 432x288 with 1 Axes>"
      ]
     },
     "metadata": {
      "needs_background": "light"
     },
     "output_type": "display_data"
    }
   ],
   "source": [
    "plt.plot(rgb_table[:,75,0], color='red')\n",
    "plt.plot(rgb_table[:,75,1],  color='green')\n",
    "plt.plot(rgb_table[:,75,2],  color='blue')"
   ]
  },
  {
   "cell_type": "code",
   "execution_count": null,
   "id": "4204870e",
   "metadata": {},
   "outputs": [],
   "source": []
  },
  {
   "cell_type": "code",
   "execution_count": null,
   "id": "4c1cd751",
   "metadata": {},
   "outputs": [],
   "source": []
  },
  {
   "cell_type": "code",
   "execution_count": 32,
   "id": "6d60f858",
   "metadata": {},
   "outputs": [],
   "source": [
    "channel_helper = {'blue':0, 'red':2}"
   ]
  },
  {
   "cell_type": "code",
   "execution_count": 33,
   "id": "3ac96185",
   "metadata": {},
   "outputs": [],
   "source": [
    "result_blue = rgb_table.copy()\n",
    "lower = np.array([0])\n",
    "upper = np.array([25])\n",
    "mask_blue = cv.inRange(rgb_table[:,:,0], lower, upper)\n",
    "result_blue = cv.bitwise_and(result_blue, result_blue, mask=mask_blue)"
   ]
  },
  {
   "cell_type": "code",
   "execution_count": 34,
   "id": "6bd955df",
   "metadata": {
    "scrolled": true
   },
   "outputs": [
    {
     "data": {
      "image/png": "[encoded data removed]",
      "text/plain": [
       "<Figure size 432x288 with 1 Axes>"
      ]
     },
     "metadata": {
      "needs_background": "light"
     },
     "output_type": "display_data"
    }
   ],
   "source": [
    "plt.imshow(result_blue)\n",
    "plt.show()"
   ]
  },
  {
   "cell_type": "code",
   "execution_count": 35,
   "id": "6db34282",
   "metadata": {},
   "outputs": [
    {
     "data": {
      "text/plain": [
       "array([  0, 255], dtype=uint8)"
      ]
     },
     "execution_count": 35,
     "metadata": {},
     "output_type": "execute_result"
    }
   ],
   "source": [
    "np.unique(mask_blue)"
   ]
  },
  {
   "cell_type": "code",
   "execution_count": 36,
   "id": "3f0fdf8b",
   "metadata": {},
   "outputs": [],
   "source": [
    "blue_idx_table = np.argwhere(mask_blue==255)"
   ]
  },
  {
   "cell_type": "code",
   "execution_count": 37,
   "id": "b29b8619",
   "metadata": {},
   "outputs": [
    {
     "data": {
      "text/plain": [
       "(array([17, 47]), array([ 50, 108]))"
      ]
     },
     "execution_count": 37,
     "metadata": {},
     "output_type": "execute_result"
    }
   ],
   "source": [
    "point_min, point_max = np.min(blue_idx_table, axis=0), np.max(blue_idx_table, axis=0)\n",
    "point_min, point_max"
   ]
  },
  {
   "cell_type": "code",
   "execution_count": 38,
   "id": "3d65bc5b",
   "metadata": {},
   "outputs": [
    {
     "data": {
      "image/png": "[encoded data removed]",
      "text/plain": [
       "<Figure size 432x288 with 1 Axes>"
      ]
     },
     "metadata": {
      "needs_background": "light"
     },
     "output_type": "display_data"
    }
   ],
   "source": [
    "blue_obj_table = rgb_table[point_min[0]:point_max[0], point_min[1]:point_max[1]]\n",
    "plt.imshow(blue_obj_table)\n",
    "plt.show()"
   ]
  },
  {
   "cell_type": "code",
   "execution_count": 39,
   "id": "7b93d538",
   "metadata": {},
   "outputs": [],
   "source": [
    "result_red = rgb_table.copy()\n",
    "lower = np.array([0])\n",
    "upper = np.array([25])\n",
    "mask_red = cv.inRange(rgb_table[:,:,2], lower, upper)\n",
    "result_red = cv.bitwise_and(result_red, result_red, mask=mask_red)"
   ]
  },
  {
   "cell_type": "code",
   "execution_count": 40,
   "id": "4c1d1a73",
   "metadata": {},
   "outputs": [
    {
     "data": {
      "image/png": "[encoded data removed]",
      "text/plain": [
       "<Figure size 432x288 with 1 Axes>"
      ]
     },
     "metadata": {
      "needs_background": "light"
     },
     "output_type": "display_data"
    }
   ],
   "source": [
    "plt.imshow(result_red)\n",
    "plt.show()"
   ]
  },
  {
   "cell_type": "code",
   "execution_count": null,
   "id": "7ea593db",
   "metadata": {},
   "outputs": [],
   "source": []
  },
  {
   "cell_type": "code",
   "execution_count": 23,
   "id": "526599dc",
   "metadata": {},
   "outputs": [],
   "source": [
    "channel_helper = {'blue':0, 'red':2}\n",
    "def get_coordinates(img, color, channel_helper):\n",
    "    result = img.copy()\n",
    "    lower = np.array([0])\n",
    "    upper = np.array([25])\n",
    "    channel = channel_helper[color]\n",
    "    mask = cv.inRange(img[:,:,channel], lower, upper)\n",
    "    idx_img = np.argwhere(mask==255)\n",
    "    point_min, point_max = np.min(idx_img, axis=0), np.max(idx_img, axis=0)\n",
    "    (y_min, x_min), (y_max, x_max) = np.min(idx_img, axis=0), np.max(idx_img, axis=0)\n",
    "    y_min, y_max = np.min([y_min, y_max]), np.max([y_min, y_max])\n",
    "    x_min, x_max = np.min([x_min, x_max]), np.max([x_min, x_max])\n",
    "    \n",
    "    # obj_img = img[y_min:y_max, x_min:x_max]\n",
    "    idx_img = {'00':y_min, '01':y_max, '10':x_min, '11':x_max}\n",
    "    # obj_img = img[idx_img['00']:idx_img['01'], idx_img['10']:idx_img['11']]\n",
    "    return idx_img"
   ]
  },
  {
   "cell_type": "code",
   "execution_count": 6,
   "id": "22b81a87",
   "metadata": {},
   "outputs": [],
   "source": [
    "def select_object_by_idx_img(img, idx_img):\n",
    "    return img[idx_img['00']:idx_img['01'], idx_img['10']:idx_img['11']]\n",
    "    "
   ]
  },
  {
   "cell_type": "code",
   "execution_count": 43,
   "id": "ffaa1403",
   "metadata": {},
   "outputs": [
    {
     "data": {
      "image/png": "[encoded data removed]",
      "text/plain": [
       "<Figure size 432x288 with 1 Axes>"
      ]
     },
     "metadata": {
      "needs_background": "light"
     },
     "output_type": "display_data"
    }
   ],
   "source": [
    "idx_blue_table = get_coordinates(rgb_table, 'blue', channel_helper)\n",
    "obj_blue = select_object_by_idx_img(rgb_table, idx_blue_table)\n",
    "plt.imshow(obj_blue)\n",
    "plt.show()"
   ]
  },
  {
   "cell_type": "code",
   "execution_count": 44,
   "id": "7dd4d930",
   "metadata": {},
   "outputs": [
    {
     "data": {
      "text/plain": [
       "{'00': 17, '01': 50, '10': 47, '11': 108}"
      ]
     },
     "execution_count": 44,
     "metadata": {},
     "output_type": "execute_result"
    }
   ],
   "source": [
    "idx_blue_table"
   ]
  },
  {
   "cell_type": "code",
   "execution_count": 45,
   "id": "2a4d9654",
   "metadata": {},
   "outputs": [
    {
     "data": {
      "image/png": "[encoded data removed]",
      "text/plain": [
       "<Figure size 432x288 with 1 Axes>"
      ]
     },
     "metadata": {
      "needs_background": "light"
     },
     "output_type": "display_data"
    }
   ],
   "source": [
    "idx_red_table = get_coordinates(rgb_table, 'red', channel_helper)\n",
    "obj_red = select_object_by_idx_img(rgb_table, idx_red_table)\n",
    "plt.imshow(obj_red)\n",
    "plt.show()"
   ]
  },
  {
   "cell_type": "code",
   "execution_count": 46,
   "id": "06db1fd1",
   "metadata": {},
   "outputs": [
    {
     "data": {
      "text/plain": [
       "{'00': 64, '01': 94, '10': 47, '11': 108}"
      ]
     },
     "execution_count": 46,
     "metadata": {},
     "output_type": "execute_result"
    }
   ],
   "source": [
    "idx_red_table"
   ]
  },
  {
   "cell_type": "code",
   "execution_count": 47,
   "id": "d974fa69",
   "metadata": {},
   "outputs": [
    {
     "data": {
      "text/plain": [
       "(93, 242)"
      ]
     },
     "execution_count": 47,
     "metadata": {},
     "output_type": "execute_result"
    }
   ],
   "source": [
    "idx_top, idx_left"
   ]
  },
  {
   "cell_type": "code",
   "execution_count": 48,
   "id": "772329d5",
   "metadata": {},
   "outputs": [],
   "source": [
    "idx_table_scene = {}\n",
    "for key in ['00','01']:\n",
    "    idx_table_scene[key] = idx_top\n",
    "for key in ['10','11']:\n",
    "    idx_table_scene[key] = idx_left\n",
    "    "
   ]
  },
  {
   "cell_type": "code",
   "execution_count": 7,
   "id": "2b2c2094",
   "metadata": {},
   "outputs": [],
   "source": [
    "def adjustCoordinates(idx_table_scene, idx_obj_table):\n",
    "    idx_obj_scene = {}\n",
    "    for key in idx_obj_table.keys():\n",
    "        idx_obj_scene[key] = idx_obj_table[key] + idx_table_scene[key]\n",
    "    \n",
    "    return idx_obj_scene"
   ]
  },
  {
   "cell_type": "code",
   "execution_count": 50,
   "id": "a30fd94a",
   "metadata": {},
   "outputs": [
    {
     "data": {
      "text/plain": [
       "{'00': 157, '01': 187, '10': 289, '11': 350}"
      ]
     },
     "execution_count": 50,
     "metadata": {},
     "output_type": "execute_result"
    }
   ],
   "source": [
    "idx_red_scene = adjustCoordinates(idx_table_scene, idx_red_table)\n",
    "idx_red_scene"
   ]
  },
  {
   "cell_type": "code",
   "execution_count": 51,
   "id": "ad49a210",
   "metadata": {},
   "outputs": [
    {
     "data": {
      "image/png": "[encoded data removed]",
      "text/plain": [
       "<Figure size 432x288 with 1 Axes>"
      ]
     },
     "metadata": {
      "needs_background": "light"
     },
     "output_type": "display_data"
    }
   ],
   "source": [
    "obj_red_scene = select_object_by_idx_img(rgb, idx_red_scene)\n",
    "plt.imshow(obj_red_scene)\n",
    "plt.show()"
   ]
  },
  {
   "cell_type": "code",
   "execution_count": null,
   "id": "117ff0a7",
   "metadata": {},
   "outputs": [],
   "source": []
  },
  {
   "cell_type": "code",
   "execution_count": 52,
   "id": "021aaa2f",
   "metadata": {},
   "outputs": [
    {
     "data": {
      "text/plain": [
       "{'00': 110, '01': 143, '10': 289, '11': 350}"
      ]
     },
     "execution_count": 52,
     "metadata": {},
     "output_type": "execute_result"
    }
   ],
   "source": [
    "idx_blue_scene = adjustCoordinates(idx_table_scene, idx_blue_table)\n",
    "idx_blue_scene"
   ]
  },
  {
   "cell_type": "code",
   "execution_count": 53,
   "id": "35beffec",
   "metadata": {},
   "outputs": [
    {
     "data": {
      "image/png": "[encoded data removed]",
      "text/plain": [
       "<Figure size 432x288 with 1 Axes>"
      ]
     },
     "metadata": {
      "needs_background": "light"
     },
     "output_type": "display_data"
    }
   ],
   "source": [
    "obj_blue_scene = select_object_by_idx_img(rgb, idx_blue_scene)\n",
    "plt.imshow(obj_blue_scene)\n",
    "plt.show()"
   ]
  },
  {
   "cell_type": "code",
   "execution_count": 54,
   "id": "ddaff94c",
   "metadata": {},
   "outputs": [
    {
     "data": {
      "image/png": "[encoded data removed]",
      "text/plain": [
       "<Figure size 432x288 with 1 Axes>"
      ]
     },
     "metadata": {
      "needs_background": "light"
     },
     "output_type": "display_data"
    }
   ],
   "source": [
    "depth_blue_scene = select_object_by_idx_img(depth, idx_blue_scene)\n",
    "plt.imshow(depth_blue_scene)\n",
    "plt.show()"
   ]
  },
  {
   "cell_type": "code",
   "execution_count": 55,
   "id": "b8950f1a",
   "metadata": {},
   "outputs": [
    {
     "data": {
      "text/plain": [
       "(array([1.0200397, 1.0200527, 1.0200658, ..., 1.1100032, 1.1100034,\n",
       "        1.1100043], dtype=float32),\n",
       " 1.0200397,\n",
       " 1.1100043)"
      ]
     },
     "execution_count": 55,
     "metadata": {},
     "output_type": "execute_result"
    }
   ],
   "source": [
    "np.unique(depth_blue_scene), np.min(depth_blue_scene), np.max(depth_blue_scene)"
   ]
  },
  {
   "cell_type": "code",
   "execution_count": null,
   "id": "56ef46f9",
   "metadata": {},
   "outputs": [],
   "source": []
  },
  {
   "cell_type": "code",
   "execution_count": 56,
   "id": "3c3e66f2",
   "metadata": {},
   "outputs": [
    {
     "data": {
      "text/plain": [
       "[<matplotlib.lines.Line2D at 0x7f0ccaf46160>]"
      ]
     },
     "execution_count": 56,
     "metadata": {},
     "output_type": "execute_result"
    },
    {
     "data": {
      "image/png": "[encoded data removed]",
      "text/plain": [
       "<Figure size 432x288 with 1 Axes>"
      ]
     },
     "metadata": {
      "needs_background": "light"
     },
     "output_type": "display_data"
    }
   ],
   "source": [
    "plt.plot(depth_blue_scene[:,0])"
   ]
  },
  {
   "cell_type": "code",
   "execution_count": 57,
   "id": "6abf6f89",
   "metadata": {},
   "outputs": [
    {
     "data": {
      "text/plain": [
       "[<matplotlib.lines.Line2D at 0x7f0ccaf13cd0>]"
      ]
     },
     "execution_count": 57,
     "metadata": {},
     "output_type": "execute_result"
    },
    {
     "data": {
      "image/png": "[encoded data removed]",
      "text/plain": [
       "<Figure size 432x288 with 1 Axes>"
      ]
     },
     "metadata": {
      "needs_background": "light"
     },
     "output_type": "display_data"
    }
   ],
   "source": [
    "diff = depth_blue_scene[1:, 0] - depth_blue_scene[:-1, 0]\n",
    "plt.plot(diff)"
   ]
  },
  {
   "cell_type": "code",
   "execution_count": 58,
   "id": "234dcac1",
   "metadata": {},
   "outputs": [
    {
     "data": {
      "text/plain": [
       "27"
      ]
     },
     "execution_count": 58,
     "metadata": {},
     "output_type": "execute_result"
    }
   ],
   "source": [
    "trim = np.argwhere(diff>0)[0][0]\n",
    "trim"
   ]
  },
  {
   "cell_type": "code",
   "execution_count": 59,
   "id": "677aae24",
   "metadata": {},
   "outputs": [
    {
     "data": {
      "text/plain": [
       "30"
      ]
     },
     "execution_count": 59,
     "metadata": {},
     "output_type": "execute_result"
    }
   ],
   "source": [
    "offset = np.argwhere(diff==0.000)[0][0]\n",
    "offset"
   ]
  },
  {
   "cell_type": "code",
   "execution_count": 60,
   "id": "1dfeaecf",
   "metadata": {},
   "outputs": [
    {
     "data": {
      "text/plain": [
       "[<matplotlib.lines.Line2D at 0x7f0ccafcf370>]"
      ]
     },
     "execution_count": 60,
     "metadata": {},
     "output_type": "execute_result"
    },
    {
     "data": {
      "image/png": "[encoded data removed]",
      "text/plain": [
       "<Figure size 432x288 with 1 Axes>"
      ]
     },
     "metadata": {
      "needs_background": "light"
     },
     "output_type": "display_data"
    }
   ],
   "source": [
    "plt.plot(depth_blue_scene[:,30])"
   ]
  },
  {
   "cell_type": "code",
   "execution_count": 61,
   "id": "70e9e40e",
   "metadata": {},
   "outputs": [],
   "source": [
    "diff = depth_blue_scene[1:, 30] - depth_blue_scene[:-1, 30]"
   ]
  },
  {
   "cell_type": "code",
   "execution_count": 62,
   "id": "7f33bbc3",
   "metadata": {},
   "outputs": [
    {
     "data": {
      "text/plain": [
       "[<matplotlib.lines.Line2D at 0x7f0ccb036f40>]"
      ]
     },
     "execution_count": 62,
     "metadata": {},
     "output_type": "execute_result"
    },
    {
     "data": {
      "image/png": "[encoded data removed]",
      "text/plain": [
       "<Figure size 432x288 with 1 Axes>"
      ]
     },
     "metadata": {
      "needs_background": "light"
     },
     "output_type": "display_data"
    }
   ],
   "source": [
    "plt.plot(diff)"
   ]
  },
  {
   "cell_type": "code",
   "execution_count": 63,
   "id": "d8f463db",
   "metadata": {},
   "outputs": [
    {
     "data": {
      "text/plain": [
       "{'00': 110, '01': 143, '10': 289, '11': 350}"
      ]
     },
     "execution_count": 63,
     "metadata": {},
     "output_type": "execute_result"
    }
   ],
   "source": [
    "idx_blue_scene"
   ]
  },
  {
   "cell_type": "code",
   "execution_count": 64,
   "id": "37b9d493",
   "metadata": {},
   "outputs": [
    {
     "data": {
      "text/plain": [
       "{'00': 110, '01': 137, '10': 289, '11': 350}"
      ]
     },
     "execution_count": 64,
     "metadata": {},
     "output_type": "execute_result"
    }
   ],
   "source": [
    "idx_blue_scene['01'] -= (depth_blue_scene.shape[0]-trim)\n",
    "idx_blue_scene"
   ]
  },
  {
   "cell_type": "code",
   "execution_count": 65,
   "id": "6a0eea26",
   "metadata": {},
   "outputs": [
    {
     "data": {
      "text/plain": [
       "array([123.5, 319.5])"
      ]
     },
     "execution_count": 65,
     "metadata": {},
     "output_type": "execute_result"
    }
   ],
   "source": [
    "idx_blue = np.array([0.5*(idx_blue_scene['00']+idx_blue_scene['01']), 0.5*(idx_blue_scene['10']+idx_blue_scene['11'])])\n",
    "idx_blue"
   ]
  },
  {
   "cell_type": "code",
   "execution_count": 66,
   "id": "38a9fa99",
   "metadata": {},
   "outputs": [
    {
     "data": {
      "text/plain": [
       "[123, 319]"
      ]
     },
     "execution_count": 66,
     "metadata": {},
     "output_type": "execute_result"
    }
   ],
   "source": [
    "idx_blue = list(map(int, idx_blue))\n",
    "idx_blue"
   ]
  },
  {
   "cell_type": "code",
   "execution_count": 8,
   "id": "17ba4c2d",
   "metadata": {},
   "outputs": [],
   "source": [
    "def centre_coordinate(idx_scene):\n",
    "    idx = np.array([0.5*(idx_scene['00']+idx_scene['01']), 0.5*(idx_scene['10']+idx_scene['11'])])\n",
    "    idx = list(map(int, idx))\n",
    "    return idx"
   ]
  },
  {
   "cell_type": "code",
   "execution_count": null,
   "id": "924d6d87",
   "metadata": {},
   "outputs": [],
   "source": []
  },
  {
   "cell_type": "code",
   "execution_count": null,
   "id": "32ae6adf",
   "metadata": {},
   "outputs": [],
   "source": []
  },
  {
   "cell_type": "code",
   "execution_count": null,
   "id": "7d622bd9",
   "metadata": {},
   "outputs": [],
   "source": []
  },
  {
   "cell_type": "markdown",
   "id": "1e9e40fd",
   "metadata": {},
   "source": [
    "### Converting from image coordinates to the camera coordinates"
   ]
  },
  {
   "cell_type": "code",
   "execution_count": 68,
   "id": "ab619990",
   "metadata": {},
   "outputs": [],
   "source": [
    "#the focal length\n",
    "f = 0.895\n",
    "f = f * 360.\n",
    "fxfypxpy = [f, f, 320., 180.]"
   ]
  },
  {
   "cell_type": "code",
   "execution_count": 69,
   "id": "e4261424",
   "metadata": {},
   "outputs": [],
   "source": [
    "points = S.depthData2pointCloud(depth, fxfypxpy)"
   ]
  },
  {
   "cell_type": "code",
   "execution_count": 70,
   "id": "107d49ae",
   "metadata": {},
   "outputs": [
    {
     "data": {
      "text/plain": [
       "(360, 640, 3)"
      ]
     },
     "execution_count": 70,
     "metadata": {},
     "output_type": "execute_result"
    }
   ],
   "source": [
    "points.shape"
   ]
  },
  {
   "cell_type": "code",
   "execution_count": 71,
   "id": "f98be993",
   "metadata": {},
   "outputs": [
    {
     "name": "stderr",
     "output_type": "stream",
     "text": [
      "Clipping input data to the valid range for imshow with RGB data ([0..1] for floats or [0..255] for integers).\n"
     ]
    },
    {
     "data": {
      "image/png": "[encoded data removed]",
      "text/plain": [
       "<Figure size 432x288 with 1 Axes>"
      ]
     },
     "metadata": {
      "needs_background": "light"
     },
     "output_type": "display_data"
    }
   ],
   "source": [
    "plt.imshow(points)\n",
    "plt.show()"
   ]
  },
  {
   "cell_type": "code",
   "execution_count": 72,
   "id": "75112498",
   "metadata": {},
   "outputs": [
    {
     "data": {
      "text/plain": [
       "(-2.070007085800171, 2.049448251724243)"
      ]
     },
     "execution_count": 72,
     "metadata": {},
     "output_type": "execute_result"
    }
   ],
   "source": [
    "np.min(points), np.max(points)"
   ]
  },
  {
   "cell_type": "code",
   "execution_count": 73,
   "id": "a0ea6c73",
   "metadata": {},
   "outputs": [
    {
     "data": {
      "text/plain": [
       "(0.8615934, 2.070007)"
      ]
     },
     "execution_count": 73,
     "metadata": {},
     "output_type": "execute_result"
    }
   ],
   "source": [
    "np.min(depth), np.max(depth)"
   ]
  },
  {
   "cell_type": "code",
   "execution_count": 74,
   "id": "a5e5bca6",
   "metadata": {},
   "outputs": [],
   "source": [
    "# Camera parameters\n",
    "camera_position = cameraFrame.getPosition()\n",
    "camera_rotation = cameraFrame.getRotationMatrix()"
   ]
  },
  {
   "cell_type": "code",
   "execution_count": null,
   "id": "db2cf77c",
   "metadata": {},
   "outputs": [],
   "source": []
  },
  {
   "cell_type": "code",
   "execution_count": 75,
   "id": "a3c64f45",
   "metadata": {},
   "outputs": [
    {
     "data": {
      "text/plain": [
       "array([-0.00316813,  0.18058321, -1.02077043])"
      ]
     },
     "execution_count": 75,
     "metadata": {},
     "output_type": "execute_result"
    }
   ],
   "source": [
    "depth_img = points[idx_blue[0], idx_blue[1]]\n",
    "depth_img"
   ]
  },
  {
   "cell_type": "code",
   "execution_count": 76,
   "id": "ad29d452",
   "metadata": {},
   "outputs": [
    {
     "data": {
      "text/plain": [
       "array([-0.00120943,  0.17878971, -1.02077043])"
      ]
     },
     "execution_count": 76,
     "metadata": {},
     "output_type": "execute_result"
    }
   ],
   "source": [
    "# Convert image coordinates to camera coordinates\n",
    "idx_img_blue_camera = np.zeros(camera_position.shape)\n",
    "idx_img_blue_camera[:2] = depth_img[:2]*np.array(idx_blue, dtype='float')/f\n",
    "idx_img_blue_camera[-1] = depth_img[-1]\n",
    "idx_img_blue_camera"
   ]
  },
  {
   "cell_type": "code",
   "execution_count": 77,
   "id": "3a8bab26",
   "metadata": {},
   "outputs": [
    {
     "data": {
      "text/plain": [
       "array([ 0.00120943, -0.15378555,  1.04923245])"
      ]
     },
     "execution_count": 77,
     "metadata": {},
     "output_type": "execute_result"
    }
   ],
   "source": [
    "idx_blue_world = camera_position + camera_rotation@idx_img_blue_camera\n",
    "idx_blue_world"
   ]
  },
  {
   "cell_type": "code",
   "execution_count": null,
   "id": "196fd1cc",
   "metadata": {},
   "outputs": [],
   "source": []
  },
  {
   "cell_type": "markdown",
   "id": "94af946c",
   "metadata": {},
   "source": []
  },
  {
   "cell_type": "code",
   "execution_count": null,
   "id": "f035177c",
   "metadata": {},
   "outputs": [],
   "source": []
  },
  {
   "cell_type": "code",
   "execution_count": 9,
   "id": "4d9f203c",
   "metadata": {},
   "outputs": [],
   "source": [
    "def convert_idx_to_world(RealWorld, S, f, depth, idx):\n",
    "    cameraFrame = RealWorld.frame(\"camera\")\n",
    "    camera_position = cameraFrame.getPosition()\n",
    "    camera_rotation = cameraFrame.getRotationMatrix()\n",
    "    f = f * 360.\n",
    "    fxfypxpy = [f, f, 320., 180.]\n",
    "    points = S.depthData2pointCloud(depth, fxfypxpy)\n",
    "    depth_img = points[idx[0], idx[1]]\n",
    "    \n",
    "    idx_img_camera = np.zeros(camera_position.shape)\n",
    "    idx_img_camera[:2] = depth_img[:2]*np.array(idx, dtype='float')/f\n",
    "    idx_img_camera[-1] = depth_img[-1]\n",
    "\n",
    "    idx_world = camera_position + camera_rotation@idx_img_camera\n",
    "    return idx_world"
   ]
  },
  {
   "cell_type": "code",
   "execution_count": 79,
   "id": "43a1cee6",
   "metadata": {},
   "outputs": [
    {
     "data": {
      "text/plain": [
       "(array([ 0.00120943, -0.15378555,  1.04923245]), array([ 0.  , -0.15,  1.  ]))"
      ]
     },
     "execution_count": 79,
     "metadata": {},
     "output_type": "execute_result"
    }
   ],
   "source": [
    "obj1 = RealWorld.getFrame(\"obj1\")\n",
    "idx_blue = centre_coordinate(idx_blue_scene)\n",
    "obj1_world = convert_idx_to_world(RealWorld, S, 0.895, depth, idx_blue)\n",
    "obj1_world, obj1.getPosition()"
   ]
  },
  {
   "cell_type": "code",
   "execution_count": 29,
   "id": "d87b0e7f",
   "metadata": {},
   "outputs": [],
   "source": [
    "obj1 = RealWorld.getFrame(\"obj1\")"
   ]
  },
  {
   "cell_type": "code",
   "execution_count": 80,
   "id": "b9e2998d",
   "metadata": {},
   "outputs": [
    {
     "data": {
      "text/plain": [
       "(array([ 1.69115785e-03, -8.79082087e-05,  1.04928187e+00]),\n",
       " array([0., 0., 1.]))"
      ]
     },
     "execution_count": 80,
     "metadata": {},
     "output_type": "execute_result"
    }
   ],
   "source": [
    "obj0 = RealWorld.getFrame(\"obj0\")\n",
    "idx_red = centre_coordinate(idx_red_scene)\n",
    "obj0_world = convert_idx_to_world(RealWorld, S, 0.895, depth, idx_red)\n",
    "obj0_world, obj0.getPosition()"
   ]
  },
  {
   "cell_type": "code",
   "execution_count": 81,
   "id": "c1deb0d2",
   "metadata": {},
   "outputs": [
    {
     "data": {
      "image/png": "[encoded data removed]",
      "text/plain": [
       "<Figure size 432x288 with 1 Axes>"
      ]
     },
     "metadata": {
      "needs_background": "light"
     },
     "output_type": "display_data"
    }
   ],
   "source": [
    "plt.imshow(rgb)\n",
    "plt.show()"
   ]
  },
  {
   "cell_type": "code",
   "execution_count": 12,
   "id": "a62be644",
   "metadata": {},
   "outputs": [],
   "source": [
    "def get_table_idx(depth):\n",
    "    idx_list = np.arange(depth.shape[1])[depth[225,:]==np.min(depth[225,:])]\n",
    "    idx_left, idx_right = idx_list[0],idx_list[-1]\n",
    "    depth_table_left = depth[:,idx_left]\n",
    "    idx_list_2 = np.arange(depth.shape[0])[depth_table_left==np.min(depth_table_left)]\n",
    "    depth_left_diff = depth_table_left[1:] - depth_table_left[:-1]\n",
    "    idx_top, idx_bottom = np.argmin(depth_left_diff), np.argmax(depth_left_diff)\n",
    "\n",
    "    return idx_top, idx_bottom, idx_left, idx_right"
   ]
  },
  {
   "cell_type": "code",
   "execution_count": 30,
   "id": "35d18b4c",
   "metadata": {},
   "outputs": [],
   "source": [
    "def give_center_by_color(color, RealWorld, S, f=0.895):\n",
    "    S.selectSensor(\"camera\")\n",
    "    cameraFrame = RealWorld.frame(\"camera\")\n",
    "    [rgb, depth] = S.getImageAndDepth()\n",
    "\n",
    "    # Cut the table\n",
    "    idx_top, idx_bottom, idx_left, idx_right = get_table_idx(depth)\n",
    "    rgb_table = rgb[idx_top:idx_bottom,idx_left:idx_right]\n",
    "    \n",
    "    # Get coordinates of object by color on the table\n",
    "    channel_helper = {'blue':0, 'red':2}\n",
    "    idx_object_table = get_coordinates(rgb_table, color, channel_helper)\n",
    "    \n",
    "    # Table coordinates\n",
    "    idx_table_scene = {}\n",
    "    for key in ['00','01']:\n",
    "        idx_table_scene[key] = idx_top\n",
    "    for key in ['10','11']:\n",
    "        idx_table_scene[key] = idx_left\n",
    "\n",
    "    # Adjust object coordinates on the table to the image coordinates\n",
    "    idx_object_scene = adjustCoordinates(idx_table_scene, idx_object_table)\n",
    "    idx_object = centre_coordinate(idx_object_scene)\n",
    "    obj_world = convert_idx_to_world(RealWorld, S, f, depth, idx_object)\n",
    "\n",
    "    return obj_world"
   ]
  },
  {
   "cell_type": "code",
   "execution_count": 31,
   "id": "281a0ef9",
   "metadata": {},
   "outputs": [
    {
     "name": "stdout",
     "output_type": "stream",
     "text": [
      "obj0_world: [ 1.69115785e-03 -8.79082087e-05  1.04928187e+00]\n",
      "obj0.getPosition(): [0. 0. 1.]\n"
     ]
    }
   ],
   "source": [
    "obj0_world = give_center_by_color('red', RealWorld, S)\n",
    "print('obj0_world:',obj0_world)\n",
    "print('obj0.getPosition():',obj0.getPosition())"
   ]
  },
  {
   "cell_type": "code",
   "execution_count": 32,
   "id": "5ad2ef12",
   "metadata": {},
   "outputs": [
    {
     "name": "stdout",
     "output_type": "stream",
     "text": [
      "obj1_world: [ 0.00123883 -0.14436092  1.04932074]\n",
      "obj1.getPosition(): [ 0.   -0.15  1.  ]\n"
     ]
    }
   ],
   "source": [
    "obj1_world = give_center_by_color('blue', RealWorld, S)\n",
    "print('obj1_world:',obj1_world)\n",
    "print('obj1.getPosition():',obj1.getPosition())"
   ]
  },
  {
   "cell_type": "code",
   "execution_count": null,
   "id": "77c0e824",
   "metadata": {},
   "outputs": [],
   "source": []
  }
 ],
 "metadata": {
  "kernelspec": {
   "display_name": "Python 3",
   "language": "python",
   "name": "python3"
  },
  "language_info": {
   "codemirror_mode": {
    "name": "ipython",
    "version": 3
   },
   "file_extension": ".py",
   "mimetype": "text/x-python",
   "name": "python",
   "nbconvert_exporter": "python",
   "pygments_lexer": "ipython3",
   "version": "3.8.5"
  }
 },
 "nbformat": 4,
 "nbformat_minor": 5
}
