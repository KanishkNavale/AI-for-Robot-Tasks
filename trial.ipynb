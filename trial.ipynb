{
 "cells": [
  {
   "cell_type": "code",
   "execution_count": 1,
   "metadata": {},
   "outputs": [
    {
     "name": "stdout",
     "output_type": "stream",
     "text": [
      "**ry-c++-log** ry.cpp:init_LogToPythonConsole:34(0) initializing ry log callback\n",
      "** INFO:util.cpp:initCmdLine:602(1) ** cmd line arguments: 'rai-pybind -python'\n",
      "** INFO:util.cpp:initCmdLine:606(1) ** run path: '/home/kanishk/robotics-lab-project'\n",
      "** INFO:graph.cpp:initParameters:1365(1) ** parsed parameters:\n",
      "{python}\n",
      "\n",
      "\n",
      "** INFO:ry.cpp:init_LogToPythonConsole:34(0) initializing ry log callback\n"
     ]
    }
   ],
   "source": [
    "from rai_gym.demo_env import Environment\n",
    "import os\n",
    "from rl_agents.DDPG import Agent\n",
    "import numpy as np"
   ]
  },
  {
   "cell_type": "code",
   "execution_count": 2,
   "metadata": {},
   "outputs": [],
   "source": [
    "# Init. agent for reaching tasks\n",
    "agent_path = os.path.abspath(\"trained_agents/reach_skill\")\n",
    "\n",
    "low = np.array([-0.15, -0.15, 0.2])\n",
    "high = np.array([0.15, 0.15, 0.7])\n",
    "\n",
    "# Init. Agent\n",
    "reach_agent = Agent(input_dims=6, n_actions=3, max_action=high, min_action=low, datapath=None, n_games=1000)\n",
    "reach_agent.actor.load_model(agent_path + '/')"
   ]
  },
  {
   "cell_type": "code",
   "execution_count": 3,
   "metadata": {},
   "outputs": [],
   "source": [
    "env = Environment(reach_skill = reach_agent)\n",
    "env.reset()\n",
    "env.Grasp(state='open')"
   ]
  },
  {
   "cell_type": "code",
   "execution_count": 4,
   "metadata": {},
   "outputs": [],
   "source": [
    "target = env.box.getPosition()\n",
    "env.MoveP2P(target + np.array([0,0,0.1]), True)\n",
    "env.MoveP2P(target, True)\n",
    "env.Grasp(state='close')"
   ]
  },
  {
   "cell_type": "code",
   "execution_count": 7,
   "metadata": {},
   "outputs": [
    {
     "data": {
      "text/plain": [
       "14.566819210505557"
      ]
     },
     "execution_count": 7,
     "metadata": {},
     "output_type": "execute_result"
    }
   ],
   "source": [
    "env.MoveP2P(np.array([0,0,1.2]))"
   ]
  }
 ],
 "metadata": {
  "interpreter": {
   "hash": "916dbcbb3f70747c44a77c7bcd40155683ae19c65e1c03b4aa3499c5328201f1"
  },
  "kernelspec": {
   "display_name": "Python 3.8.10 64-bit",
   "language": "python",
   "name": "python3"
  },
  "language_info": {
   "codemirror_mode": {
    "name": "ipython",
    "version": 3
   },
   "file_extension": ".py",
   "mimetype": "text/x-python",
   "name": "python",
   "nbconvert_exporter": "python",
   "pygments_lexer": "ipython3",
   "version": "3.8.10"
  },
  "orig_nbformat": 4
 },
 "nbformat": 4,
 "nbformat_minor": 2
}
