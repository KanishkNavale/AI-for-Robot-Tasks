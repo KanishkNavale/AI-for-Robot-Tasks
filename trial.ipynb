{
 "cells": [
  {
   "cell_type": "code",
   "execution_count": 1,
   "metadata": {},
   "outputs": [
    {
     "name": "stdout",
     "output_type": "stream",
     "text": [
      "**ry-c++-log** ry.cpp:init_LogToPythonConsole:34(0) initializing ry log callback** INFO:util.cpp:initCmdLine:602(1) ** cmd line arguments: 'rai-pybind -python'\n",
      "** INFO:util.cpp:initCmdLine:606(1) ** run path: '/home/kanishk/robotics-lab-project'\n",
      "\n",
      "** INFO:graph.cpp:initParameters:1365(1) ** parsed parameters:\n",
      "{python}\n",
      "\n",
      "\n",
      "** INFO:ry.cpp:init_LogToPythonConsole:34(0) initializing ry log callback\n"
     ]
    }
   ],
   "source": [
    "import numpy as np\n",
    "import os\n",
    "\n",
    "from rai_gym.demo_env import Environment\n",
    "from rl_agents.DDPG import Agent"
   ]
  },
  {
   "cell_type": "code",
   "execution_count": 2,
   "metadata": {},
   "outputs": [
    {
     "name": "stdout",
     "output_type": "stream",
     "text": [
      "**ry-c++-log** kin.cpp:getFrame:360(-1) cannot find frame named 'obj0'\n",
      "\n",
      "** WARNING:kin.cpp:getFrame:360(-1) cannot find frame named 'obj0'\n"
     ]
    }
   ],
   "source": [
    "# Init. DDPG Agent\n",
    "agent_path = os.path.abspath(\"trained_agents\")\n",
    "reach_agent = Agent()\n",
    "reach_agent.actor.load_model(agent_path + '/')\n",
    "\n",
    "# Init. Environments\n",
    "env = Environment(reach_skill=reach_agent)"
   ]
  },
  {
   "cell_type": "code",
   "execution_count": 3,
   "metadata": {},
   "outputs": [],
   "source": [
    "env._reset()"
   ]
  },
  {
   "cell_type": "code",
   "execution_count": 5,
   "metadata": {},
   "outputs": [],
   "source": [
    "red = np.array([ 1.69115785e-03, -1.27237461e-04,  1.04928187e+00])\n",
    "blue = np.array([ 0.00120943, -0.15378555,  1.04923245])"
   ]
  },
  {
   "cell_type": "code",
   "execution_count": 6,
   "metadata": {},
   "outputs": [],
   "source": [
    "env._TendObject(blue, [0.1, 0.1, blue[-1]])"
   ]
  }
 ],
 "metadata": {
  "interpreter": {
   "hash": "916dbcbb3f70747c44a77c7bcd40155683ae19c65e1c03b4aa3499c5328201f1"
  },
  "kernelspec": {
   "display_name": "Python 3.8.10 64-bit",
   "language": "python",
   "name": "python3"
  },
  "language_info": {
   "codemirror_mode": {
    "name": "ipython",
    "version": 3
   },
   "file_extension": ".py",
   "mimetype": "text/x-python",
   "name": "python",
   "nbconvert_exporter": "python",
   "pygments_lexer": "ipython3",
   "version": "3.8.10"
  },
  "orig_nbformat": 4
 },
 "nbformat": 4,
 "nbformat_minor": 2
}
