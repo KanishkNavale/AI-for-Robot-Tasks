{
 "cells": [
  {
   "cell_type": "code",
   "execution_count": 1,
   "metadata": {},
   "outputs": [
    {
     "name": "stdout",
     "output_type": "stream",
     "text": [
      "**ry-c++-log** ry.cpp:init_LogToPythonConsole:34(0) initializing ry log callback** INFO:util.cpp:initCmdLine:602(1) ** cmd line arguments: 'rai-pybind -python'\n",
      "\n",
      "** INFO:util.cpp:initCmdLine:606(1) ** run path: '/home/kanishk/robotics-lab-project'\n",
      "** INFO:graph.cpp:initParameters:1365(1) ** parsed parameters:\n",
      "{python}\n",
      "\n",
      "\n",
      "** INFO:ry.cpp:init_LogToPythonConsole:34(0) initializing ry log callback\n"
     ]
    }
   ],
   "source": [
    "from rai_gym.demo_env import Environment\n",
    "import os\n",
    "from rl_agents.DDPG import Agent\n",
    "import numpy as np"
   ]
  },
  {
   "cell_type": "code",
   "execution_count": 2,
   "metadata": {},
   "outputs": [],
   "source": [
    "env = Environment()\n",
    "env.reset()"
   ]
  },
  {
   "cell_type": "code",
   "execution_count": 3,
   "metadata": {},
   "outputs": [],
   "source": [
    "agent_path = os.path.abspath(\"trained_agents\")\n",
    "\n",
    "# Init. Agent\n",
    "agent = Agent(env, None, 1000)\n",
    "agent.actor.load_model(agent_path + '/')"
   ]
  },
  {
   "cell_type": "code",
   "execution_count": 14,
   "metadata": {},
   "outputs": [
    {
     "name": "stdout",
     "output_type": "stream",
     "text": [
      "Reached Target with positional error =20.45mm\n"
     ]
    }
   ],
   "source": [
    "target = np.array([-0.12, -0.1, 1.3])\n",
    "error = env.MoveP2P(agent, target)\n",
    "print(f'Reached Target with positional error ={error:.2f}mm')"
   ]
  }
 ],
 "metadata": {
  "interpreter": {
   "hash": "916dbcbb3f70747c44a77c7bcd40155683ae19c65e1c03b4aa3499c5328201f1"
  },
  "kernelspec": {
   "display_name": "Python 3.8.10 64-bit",
   "language": "python",
   "name": "python3"
  },
  "language_info": {
   "codemirror_mode": {
    "name": "ipython",
    "version": 3
   },
   "file_extension": ".py",
   "mimetype": "text/x-python",
   "name": "python",
   "nbconvert_exporter": "python",
   "pygments_lexer": "ipython3",
   "version": "3.8.10"
  },
  "orig_nbformat": 4
 },
 "nbformat": 4,
 "nbformat_minor": 2
}
