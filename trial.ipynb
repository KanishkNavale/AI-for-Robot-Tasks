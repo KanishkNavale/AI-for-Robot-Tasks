{
 "cells": [
  {
   "cell_type": "code",
   "execution_count": 6,
   "metadata": {},
   "outputs": [],
   "source": [
    "from rai_gym.demo_env import Environment\n",
    "import os\n",
    "from rl_agents.DDPG import Agent\n",
    "import numpy as np"
   ]
  },
  {
   "cell_type": "code",
   "execution_count": 7,
   "metadata": {},
   "outputs": [],
   "source": [
    "env = Environment()\n",
    "env.reset()"
   ]
  },
  {
   "cell_type": "code",
   "execution_count": 8,
   "metadata": {},
   "outputs": [],
   "source": [
    "agent_path = os.path.abspath(\"trained_agents\")\n",
    "\n",
    "# Init. Agent\n",
    "agent = Agent(env, None, 1000)\n",
    "agent.actor.load_model(agent_path + '/')"
   ]
  },
  {
   "cell_type": "code",
   "execution_count": 9,
   "metadata": {},
   "outputs": [],
   "source": [
    "# Color Scheme\n",
    "env.reset()"
   ]
  },
  {
   "cell_type": "code",
   "execution_count": 10,
   "metadata": {},
   "outputs": [
    {
     "name": "stdout",
     "output_type": "stream",
     "text": [
      "**ry-c++-log** kin_swift.cpp:SwiftInterface:94(-2) --failed!\n",
      "\n",
      "STACK9 std::shared_ptr<SwiftInterface> std::make_shared<SwiftInterface, rai::Array<rai::Frame*>&, double, int>(rai::Array<rai::Frame*>&, double&&, int&&)\n",
      "STACK8 std::shared_ptr<SwiftInterface> std::allocate_shared<SwiftInterface, std::allocator<SwiftInterface>, rai::Array<rai::Frame*>&, double, int>(std::allocator<SwiftInterface> const&, rai::Array<rai::Frame*>&, double&&, int&&)\n",
      "STACK7 std::shared_ptr<SwiftInterface>::shared_ptr<std::allocator<SwiftInterface>, rai::Array<rai::Frame*>&, double, int>(std::_Sp_alloc_shared_tag<std::allocator<SwiftInterface> >, rai::Array<rai::Frame*>&, double&&, int&&)\n",
      "STACK6 std::__shared_ptr<SwiftInterface, (__gnu_cxx::_Lock_policy)2>::__shared_ptr<std::allocator<SwiftInterface>, rai::Array<rai::Frame*>&, double, int>(std::_Sp_alloc_shared_tag<std::allocator<SwiftInterface> >, rai::Array<rai::Frame*>&, double&&, int&&)\n",
      "STACK5 std::__shared_count<(__gnu_cxx::_Lock_policy)2>::__shared_count<SwiftInterface, std::allocator<SwiftInterface>, rai::Array<rai::Frame*>&, double, int>(SwiftInterface*&, std::_Sp_alloc_shared_tag<std::allocator<SwiftInterface> >, rai::Array<rai::Frame*>&, double&&, int&&)\n",
      "STACK4 std::_Sp_counted_ptr_inplace<SwiftInterface, std::allocator<SwiftInterface>, (__gnu_cxx::_Lock_policy)2>::_Sp_counted_ptr_inplace<rai::Array<rai::Frame*>&, double, int>(std::allocator<SwiftInterface>, rai::Array<rai::Frame*>&, double&&, int&&)\n",
      "STACK3 void std::allocator_traits<std::allocator<SwiftInterface> >::construct<SwiftInterface, rai::Array<rai::Frame*>&, double, int>(std::allocator<SwiftInterface>&, SwiftInterface*, rai::Array<rai::Frame*>&, double&&, int&&)\n",
      "STACK2 void __gnu_cxx::new_allocator<SwiftInterface>::construct<SwiftInterface, rai::Array<rai::Frame*>&, double, int>(SwiftInterface*, rai::Array<rai::Frame*>&, double&&, int&&)\n",
      "STACK1 SwiftInterface::SwiftInterface(rai::Array<rai::Frame*> con"
     ]
    },
    {
     "name": "stderr",
     "output_type": "stream",
     "text": [
      "Error: The mesh is not a 2-manifold --\n",
      "       All edges may belong to at most 2 faces.\n",
      "       An edge has been found that belongs to 3 or more faces.\n",
      "       The vertices of the edge are 0, 97.\n",
      "** ERROR:kin_swift.cpp:SwiftInterface:94(-2) --failed!\n"
     ]
    },
    {
     "ename": "RuntimeError",
     "evalue": "kin_swift.cpp:SwiftInterface:94(-2) --failed!",
     "output_type": "error",
     "traceback": [
      "\u001b[0;31m---------------------------------------------------------------------------\u001b[0m",
      "\u001b[0;31mRuntimeError\u001b[0m                              Traceback (most recent call last)",
      "\u001b[0;32m/tmp/ipykernel_512/190916489.py\u001b[0m in \u001b[0;36m<module>\u001b[0;34m\u001b[0m\n\u001b[1;32m      3\u001b[0m \u001b[0mtarget\u001b[0m \u001b[0;34m=\u001b[0m \u001b[0menv\u001b[0m\u001b[0;34m.\u001b[0m\u001b[0mbox\u001b[0m\u001b[0;34m.\u001b[0m\u001b[0mgetPosition\u001b[0m\u001b[0;34m(\u001b[0m\u001b[0;34m)\u001b[0m\u001b[0;34m\u001b[0m\u001b[0;34m\u001b[0m\u001b[0m\n\u001b[1;32m      4\u001b[0m \u001b[0menv\u001b[0m\u001b[0;34m.\u001b[0m\u001b[0mMoveP2P\u001b[0m\u001b[0;34m(\u001b[0m\u001b[0magent\u001b[0m\u001b[0;34m,\u001b[0m \u001b[0mtarget\u001b[0m\u001b[0;34m)\u001b[0m\u001b[0;34m\u001b[0m\u001b[0;34m\u001b[0m\u001b[0m\n\u001b[0;32m----> 5\u001b[0;31m \u001b[0menv\u001b[0m\u001b[0;34m.\u001b[0m\u001b[0mGrasp\u001b[0m\u001b[0;34m(\u001b[0m\u001b[0mstate\u001b[0m\u001b[0;34m=\u001b[0m\u001b[0;34m'close'\u001b[0m\u001b[0;34m)\u001b[0m\u001b[0;34m\u001b[0m\u001b[0;34m\u001b[0m\u001b[0m\n\u001b[0m",
      "\u001b[0;32m~/robotics-lab-project/rai_gym/demo_env.py\u001b[0m in \u001b[0;36mGrasp\u001b[0;34m(self, state)\u001b[0m\n\u001b[1;32m    146\u001b[0m         \u001b[0;31m# Init. Grasp Close\u001b[0m\u001b[0;34m\u001b[0m\u001b[0;34m\u001b[0m\u001b[0;34m\u001b[0m\u001b[0m\n\u001b[1;32m    147\u001b[0m         \u001b[0;32mif\u001b[0m \u001b[0mstate\u001b[0m \u001b[0;34m==\u001b[0m \u001b[0;34m'close'\u001b[0m\u001b[0;34m:\u001b[0m\u001b[0;34m\u001b[0m\u001b[0;34m\u001b[0m\u001b[0m\n\u001b[0;32m--> 148\u001b[0;31m             \u001b[0mself\u001b[0m\u001b[0;34m.\u001b[0m\u001b[0mS\u001b[0m\u001b[0;34m.\u001b[0m\u001b[0mcloseGripper\u001b[0m\u001b[0;34m(\u001b[0m\u001b[0;34m\"gripper\"\u001b[0m\u001b[0;34m)\u001b[0m\u001b[0;34m\u001b[0m\u001b[0;34m\u001b[0m\u001b[0m\n\u001b[0m\u001b[1;32m    149\u001b[0m             \u001b[0;32mwhile\u001b[0m \u001b[0;32mnot\u001b[0m \u001b[0mself\u001b[0m\u001b[0;34m.\u001b[0m\u001b[0mS\u001b[0m\u001b[0;34m.\u001b[0m\u001b[0mgetGripperIsGrasping\u001b[0m\u001b[0;34m(\u001b[0m\u001b[0;34m\"gripper\"\u001b[0m\u001b[0;34m)\u001b[0m\u001b[0;34m:\u001b[0m\u001b[0;34m\u001b[0m\u001b[0;34m\u001b[0m\u001b[0m\n\u001b[1;32m    150\u001b[0m                 \u001b[0;32mpass\u001b[0m\u001b[0;34m\u001b[0m\u001b[0;34m\u001b[0m\u001b[0m\n",
      "\u001b[0;31mRuntimeError\u001b[0m: kin_swift.cpp:SwiftInterface:94(-2) --failed!"
     ]
    },
    {
     "name": "stdout",
     "output_type": "stream",
     "text": [
      "st&, double, int)\n",
      "STACK0 rai::LogToken::~LogToken()\n"
     ]
    }
   ],
   "source": [
    "target = env.box.getPosition()\n",
    "env.MoveP2P(agent, target + np.array([0, 0, 0.1]))\n",
    "target = env.box.getPosition()\n",
    "env.MoveP2P(agent, target)\n",
    "env.Grasp(state='close')\n"
   ]
  }
 ],
 "metadata": {
  "interpreter": {
   "hash": "916dbcbb3f70747c44a77c7bcd40155683ae19c65e1c03b4aa3499c5328201f1"
  },
  "kernelspec": {
   "display_name": "Python 3.8.10 64-bit",
   "language": "python",
   "name": "python3"
  },
  "language_info": {
   "codemirror_mode": {
    "name": "ipython",
    "version": 3
   },
   "file_extension": ".py",
   "mimetype": "text/x-python",
   "name": "python",
   "nbconvert_exporter": "python",
   "pygments_lexer": "ipython3",
   "version": "3.8.10"
  },
  "orig_nbformat": 4
 },
 "nbformat": 4,
 "nbformat_minor": 2
}
