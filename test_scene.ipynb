{
 "cells": [
  {
   "cell_type": "code",
   "execution_count": 7,
   "metadata": {},
   "outputs": [
    {
     "name": "stdout",
     "output_type": "stream",
     "text": [
      "**ry-c++-log** opengl.cpp:error_callback:340(-2) GLFW error 65544: Linux: Failed to watch for joystick connections in /dev/input: No such file or directory\n",
      "\n",
      "STACK9 OpenGL::update(char const*, bool)\n",
      "STACK8 OpenGL::openWindow()\n",
      "STACK7 /home/kanishk/rai/lib/libGui.so(+0x759e6) [0x7f103a3129e6]\n",
      "STACK6 GlfwSpinner::GlfwSpinner()\n",
      "STACK5 /home/kanishk/.mujoco/mujoco210/bin/libglfw.so.3(glfwInit\n",
      "STACK4 /home/kanishk/.mujoco/mujoco210/bin/libglfw.so.3(+0xe5b1) [0x7f1038a2c5b1]\n",
      "STACK3 /home/kanishk/.mujoco/mujoco210/bin/libglfw.so.3(+0x15c89) [0x7f1038a33c89]\n",
      "STACK2 /home/kanishk/.mujoco/mujoco210/bin/libglfw.so.3(+0x654b) [0x7f1038a2454b]\n",
      "STACK1 GlfwSpinner::error_callback(int, char const*)\n",
      "STACK0 rai::LogToken::~LogToken()\n"
     ]
    },
    {
     "name": "stderr",
     "output_type": "stream",
     "text": [
      "** ERROR:opengl.cpp:error_callback:340(-2) GLFW error 65544: Linux: Failed to watch for joystick connections in /dev/input: No such file or directory\n"
     ]
    },
    {
     "ename": "RuntimeError",
     "evalue": "opengl.cpp:error_callback:340(-2) GLFW error 65544: Linux: Failed to watch for joystick connections in /dev/input: No such file or directory",
     "output_type": "error",
     "traceback": [
      "\u001b[0;31m---------------------------------------------------------------------------\u001b[0m",
      "\u001b[0;31mRuntimeError\u001b[0m                              Traceback (most recent call last)",
      "\u001b[0;32m/tmp/ipykernel_1127/669869812.py\u001b[0m in \u001b[0;36m<module>\u001b[0;34m\u001b[0m\n\u001b[1;32m      5\u001b[0m \u001b[0mK\u001b[0m\u001b[0;34m.\u001b[0m\u001b[0mclear\u001b[0m\u001b[0;34m(\u001b[0m\u001b[0;34m)\u001b[0m\u001b[0;34m\u001b[0m\u001b[0;34m\u001b[0m\u001b[0m\n\u001b[1;32m      6\u001b[0m \u001b[0mK\u001b[0m\u001b[0;34m.\u001b[0m\u001b[0maddFile\u001b[0m\u001b[0;34m(\u001b[0m\u001b[0mos\u001b[0m\u001b[0;34m.\u001b[0m\u001b[0mpath\u001b[0m\u001b[0;34m.\u001b[0m\u001b[0mabspath\u001b[0m\u001b[0;34m(\u001b[0m\u001b[0;34m'robot_scene/robot_scene.g'\u001b[0m\u001b[0;34m)\u001b[0m\u001b[0;34m)\u001b[0m\u001b[0;34m\u001b[0m\u001b[0;34m\u001b[0m\u001b[0m\n\u001b[0;32m----> 7\u001b[0;31m \u001b[0mK\u001b[0m\u001b[0;34m.\u001b[0m\u001b[0mview\u001b[0m\u001b[0;34m(\u001b[0m\u001b[0;34m)\u001b[0m\u001b[0;34m\u001b[0m\u001b[0;34m\u001b[0m\u001b[0m\n\u001b[0m",
      "\u001b[0;31mRuntimeError\u001b[0m: opengl.cpp:error_callback:340(-2) GLFW error 65544: Linux: Failed to watch for joystick connections in /dev/input: No such file or directory"
     ]
    }
   ],
   "source": [
    "import libry as ry\n",
    "import os\n",
    "\n",
    "K = ry.Config()\n",
    "K.clear()\n",
    "K.addFile(os.path.abspath('robot_scene/robot_scene.g'))\n",
    "K.view()"
   ]
  }
 ],
 "metadata": {
  "interpreter": {
   "hash": "31f2aee4e71d21fbe5cf8b01ff0e069b9275f58929596ceb00d14d90e3e16cd6"
  },
  "kernelspec": {
   "display_name": "Python 3.8.10 64-bit",
   "language": "python",
   "name": "python3"
  },
  "language_info": {
   "codemirror_mode": {
    "name": "ipython",
    "version": 3
   },
   "file_extension": ".py",
   "mimetype": "text/x-python",
   "name": "python",
   "nbconvert_exporter": "python",
   "pygments_lexer": "ipython3",
   "version": "3.8.10"
  },
  "orig_nbformat": 4
 },
 "nbformat": 4,
 "nbformat_minor": 2
}
